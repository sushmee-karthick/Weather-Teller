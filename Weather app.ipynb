{
 "cells": [
  {
   "cell_type": "code",
   "execution_count": 65,
   "id": "6bc06581",
   "metadata": {},
   "outputs": [
    {
     "name": "stdout",
     "output_type": "stream",
     "text": [
      "Requirement already satisfied: geopy in c:\\users\\sushm\\anaconda3\\lib\\site-packages (2.4.1)\n",
      "Requirement already satisfied: geographiclib<3,>=1.52 in c:\\users\\sushm\\anaconda3\\lib\\site-packages (from geopy) (2.0)\n"
     ]
    }
   ],
   "source": [
    "!pip install geopy\n"
   ]
  },
  {
   "cell_type": "code",
   "execution_count": 66,
   "id": "b2866c50",
   "metadata": {},
   "outputs": [
    {
     "name": "stdout",
     "output_type": "stream",
     "text": [
      "Requirement already satisfied: timezonefinder in c:\\users\\sushm\\anaconda3\\lib\\site-packages (6.2.0)\n",
      "Requirement already satisfied: cffi<2,>=1.15.1 in c:\\users\\sushm\\anaconda3\\lib\\site-packages (from timezonefinder) (1.15.1)\n",
      "Requirement already satisfied: h3<4,>=3.7.6 in c:\\users\\sushm\\anaconda3\\lib\\site-packages (from timezonefinder) (3.7.6)\n",
      "Requirement already satisfied: numpy<2,>=1.18 in c:\\users\\sushm\\anaconda3\\lib\\site-packages (from timezonefinder) (1.24.3)\n",
      "Requirement already satisfied: setuptools>=65.5 in c:\\users\\sushm\\anaconda3\\lib\\site-packages (from timezonefinder) (68.0.0)\n",
      "Requirement already satisfied: pycparser in c:\\users\\sushm\\anaconda3\\lib\\site-packages (from cffi<2,>=1.15.1->timezonefinder) (2.21)\n"
     ]
    }
   ],
   "source": [
    "!pip install timezonefinder"
   ]
  },
  {
   "cell_type": "code",
   "execution_count": 67,
   "id": "901a6b8a",
   "metadata": {},
   "outputs": [
    {
     "name": "stdout",
     "output_type": "stream",
     "text": [
      "Requirement already satisfied: pytz in c:\\users\\sushm\\anaconda3\\lib\\site-packages (2023.3.post1)\n"
     ]
    }
   ],
   "source": [
    "!pip install pytz"
   ]
  },
  {
   "cell_type": "code",
   "execution_count": 33,
   "id": "603c9af0",
   "metadata": {},
   "outputs": [],
   "source": [
    "from tkinter import *"
   ]
  },
  {
   "cell_type": "code",
   "execution_count": 34,
   "id": "8106491a",
   "metadata": {},
   "outputs": [],
   "source": [
    "import tkinter as tk"
   ]
  },
  {
   "cell_type": "code",
   "execution_count": 35,
   "id": "f5da626a",
   "metadata": {},
   "outputs": [],
   "source": [
    "from geopy.geocoders import Nominatim"
   ]
  },
  {
   "cell_type": "code",
   "execution_count": 36,
   "id": "2e0dc267",
   "metadata": {},
   "outputs": [],
   "source": [
    "from tkinter import ttk,messagebox"
   ]
  },
  {
   "cell_type": "code",
   "execution_count": 37,
   "id": "c094eb9f",
   "metadata": {},
   "outputs": [],
   "source": [
    "from timezonefinder import TimezoneFinder"
   ]
  },
  {
   "cell_type": "code",
   "execution_count": 38,
   "id": "813065cd",
   "metadata": {},
   "outputs": [],
   "source": [
    "from datetime import datetime"
   ]
  },
  {
   "cell_type": "code",
   "execution_count": 39,
   "id": "a7585f56",
   "metadata": {},
   "outputs": [],
   "source": [
    "import requests"
   ]
  },
  {
   "cell_type": "code",
   "execution_count": 40,
   "id": "d52a7537",
   "metadata": {},
   "outputs": [],
   "source": [
    "import pytz"
   ]
  },
  {
   "cell_type": "code",
   "execution_count": 51,
   "id": "3de5e248",
   "metadata": {},
   "outputs": [
    {
     "data": {
      "text/plain": [
       "''"
      ]
     },
     "execution_count": 51,
     "metadata": {},
     "output_type": "execute_result"
    }
   ],
   "source": [
    "root=Tk()\n",
    "root.title(\"Weather App\")\n",
    "root.geometry(\"900x500+300+200\")\n",
    "root.resizable(False,False)\n"
   ]
  },
  {
   "cell_type": "code",
   "execution_count": null,
   "id": "6b2d852e",
   "metadata": {
    "scrolled": true
   },
   "outputs": [],
   "source": [
    "root=Tk()\n",
    "root.title(\"Weather App\")\n",
    "root.geometry(\"900x500+300+200\")\n",
    "root.resizable(False,False)\n",
    "def fetchWeather():\n",
    "    try:\n",
    "        user_city = text_entry.get()\n",
    "        geolocator = Nominatim(user_agent=\"geoapiExercises\")\n",
    "        location = geolocator.geocode(user_city)\n",
    "        timezone_finder = TimezoneFinder()\n",
    "        timezone_result = timezone_finder.timezone_at(lng=location.longitude, lat=location.latitude)\n",
    "\n",
    "        home_timezone = pytz.timezone(timezone_result)\n",
    "        local_time = datetime.now(home_timezone)\n",
    "        current_time = local_time.strftime(\"%I:%M %p\")\n",
    "        clock_label.config(text=current_time)\n",
    "        weather_name_label.config(text=\"CURRENT WEATHER\")\n",
    "\n",
    "        weather_api = \"https://api.openweathermap.org/data/2.5/weather?q=\" + user_city + \"&appid=47d39b11b0092e90ca614a6c6fbd201f\"\n",
    "\n",
    "        json_data = requests.get(weather_api).json()\n",
    "        condition = json_data['weather'][0]['main']\n",
    "        description = json_data['weather'][0]['description']\n",
    "        temperature = int(json_data['main']['temp'] - 273.15)\n",
    "        pressure = json_data['main']['pressure']\n",
    "        humidity = json_data['main']['humidity']\n",
    "        wind_speed = json_data['wind']['speed']\n",
    "        \n",
    "       \n",
    "        \n",
    "        \n",
    "\n",
    "        temperature_label.config(text=(temperature, \"°\"))\n",
    "        condition_label.config(text=(condition, \"|\", \"FEELS\", \"LIKE\", temperature))\n",
    "\n",
    "        wind_label.config(text=wind_speed)\n",
    "        humidity_label.config(text=humidity)\n",
    "        description_label.config(text=description)\n",
    "        pressure_label.config(text=pressure)\n",
    "    except Exception as e:\n",
    "        messagebox.showerror(\"Weather Teller\", \"Invalid Entry!!\")\n",
    "\n",
    "search_image = PhotoImage(file=\"C:\\\\Users\\\\sushm\\\\Downloads\\\\drive-download-20240117T163454Z-001\\\\Copy of search.png\")\n",
    "search_icon_label = Label(image=search_image)\n",
    "search_icon_label.place(x=20, y=20)\n",
    "text_entry = tk.Entry(root, justify=\"center\", width=17, font=(\"poppins\", 25, \"bold\"), bg=\"#FFFFFF\", border=0, fg=\"black\")\n",
    "text_entry.place(x=60, y=40)\n",
    "text_entry.focus()\n",
    "search_icon_image = PhotoImage(file=\"C:\\\\Users\\\\sushm\\\\Downloads\\\\drive-download-20240117T163454Z-001\\\\Copy of search_icon.png\")\n",
    "search_button = Button(image=search_icon_image, borderwidth=0, cursor=\"hand2\", bg=\"#FFFFFF\", command=fetchWeather)\n",
    "search_button.place(x=390, y=34)\n",
    "\n",
    "logo_image = PhotoImage(file=\"C:\\\\Users\\\\sushm\\\\Downloads\\\\drive-download-20240117T163454Z-001\\\\Copy of logo.png\")\n",
    "app_logo = Label(image=logo_image)\n",
    "app_logo.place(x=150, y=100)\n",
    "\n",
    "frame_image = PhotoImage(file=\"C:\\\\Users\\\\sushm\\\\Downloads\\\\drive-download-20240117T163454Z-001\\\\Copy of box.png\")\n",
    "frame_label = Label(image=frame_image)\n",
    "frame_label.pack(padx=5, pady=5, side=BOTTOM)\n",
    "\n",
    "weather_name_label = Label(root, font=(\"arial\", 15, \"bold\"))\n",
    "weather_name_label.place(x=30, y=100)\n",
    "clock_label = Label(root, font=(\"Helvetica\", 20))\n",
    "clock_label.place(x=30, y=130)\n",
    "\n",
    "label_wind = Label(root, text=\"WIND\", font=(\"Helvetica\", 15, 'bold'), fg=\"white\", bg=\"#1ab5ef\")\n",
    "label_wind.place(x=120, y=400)\n",
    "label_humidity = Label(root, text=\"HUMIDITY\", font=(\"Helvetica\", 15, 'bold'), fg=\"white\", bg=\"#1ab5ef\")\n",
    "label_humidity.place(x=250, y=400)\n",
    "label_description = Label(root, text=\"DESCRIPTION\", font=(\"Helvetica\", 15, 'bold'), fg=\"white\", bg=\"#1ab5ef\")\n",
    "label_description.place(x=430, y=400)\n",
    "label_pressure = Label(root, text=\"PRESSURE\", font=(\"Helvetica\", 15, 'bold'), fg=\"white\", bg=\"#1ab5ef\")\n",
    "label_pressure.place(x=650, y=400)\n",
    "temperature_label = Label(font=(\"arial\", 70, \"bold\"), fg=\"#ee666d\")\n",
    "temperature_label.place(x=400, y=150)\n",
    "condition_label = Label(font=(\"arial\", 15, \"bold\"))\n",
    "condition_label.place(x=400, y=250)\n",
    "wind_label = Label(text=\"...\", font=(\"arial\", 20, \"bold\"), bg=\"#1ab5ef\")\n",
    "wind_label.place(x=120, y=430)\n",
    "humidity_label = Label(text=\"...\", font=(\"arial\", 20, \"bold\"), bg=\"#1ab5ef\")\n",
    "humidity_label.place(x=280, y=430)\n",
    "description_label = Label(text=\"...\", font=(\"arial\", 20, \"bold\"), bg=\"#1ab5ef\")\n",
    "description_label.place(x=450, y=430)\n",
    "pressure_label = Label(text=\"...\", font=(\"arial\", 20, \"bold\"), bg=\"#1ab5ef\")\n",
    "pressure_label.place(x=670, y=430)\n",
    "root.mainloop()"
   ]
  },
  {
   "cell_type": "code",
   "execution_count": 46,
   "id": "1ace02f9",
   "metadata": {},
   "outputs": [],
   "source": [
    "def fetchWeather():\n",
    "    try:\n",
    "        user_city = text_entry.get()\n",
    "        geolocator = Nominatim(user_agent=\"geoapiExercises\")\n",
    "        location = geolocator.geocode(user_city)\n",
    "        timezone_finder = TimezoneFinder()\n",
    "        timezone_result = timezone_finder.timezone_at(lng=location.longitude, lat=location.latitude)\n",
    "\n",
    "        home_timezone = pytz.timezone(timezone_result)\n",
    "        local_time = datetime.now(home_timezone)\n",
    "        current_time = local_time.strftime(\"%I:%M %p\")\n",
    "        clock_label.config(text=current_time)\n",
    "        weather_name_label.config(text=\"CURRENT WEATHER\")\n",
    "\n",
    "        weather_api = \"https://api.openweathermap.org/data/2.5/weather?q=\" + user_city + \"&appid=47d39b11b0092e90ca614a6c6fbd201f\"\n",
    "\n",
    "        json_data = requests.get(weather_api).json()\n",
    "        condition = json_data['weather'][0]['main']\n",
    "        description = json_data['weather'][0]['description']\n",
    "        temperature_kelvin = json_data['main']['temp']\n",
    "        temperature_celsius = int(temperature_kelvin - 273.15)\n",
    "        pressure = json_data['main']['pressure']\n",
    "        humidity = json_data['main']['humidity']\n",
    "        wind_speed = json_data['wind']['speed']\n",
    "\n",
    "        # Display temperature condition\n",
    "        if -30 <= temperature_celsius <= -10:\n",
    "            tempcond = \"Freezing\"\n",
    "        elif -10 < temperature_celsius <= 0:\n",
    "            tempcond = \"Chilly\"\n",
    "        elif 0 < temperature_celsius <= 15:\n",
    "            tempcond = \"Cold\"\n",
    "        elif 15 < temperature_celsius <= 20:\n",
    "            tempcond = \"Room Temperature\"\n",
    "        elif 20 < temperature_celsius <= 25:\n",
    "            tempcond = \"Warm\"\n",
    "        elif 25 < temperature_celsius <= 30:\n",
    "            tempcond = \"Tepid\"\n",
    "        elif 30 <= temperature_celsius <= 40:\n",
    "            tempcond = \"Hot\"\n",
    "        else:\n",
    "            tempcond = \"Extreme\"\n",
    "\n",
    "        temperature_label.config(text=(temperature_celsius, \"°\"))\n",
    "        condition_label.config(text=(condition, \"|\", \"FEELS\", \"LIKE\", tempcond))\n",
    "\n",
    "        wind_label.config(text=wind_speed)\n",
    "        humidity_label.config(text=humidity)\n",
    "        description_label.config(text=description)\n",
    "        pressure_label.config(text=pressure)\n",
    "    except Exception as e:\n",
    "        messagebox.showerror(\"Weather Teller\", \"Invalid Entry!!\")\n",
    "\n",
    "# Rest of your code remains unchanged\n",
    "search_image = PhotoImage(file=\"C:\\\\Users\\\\sushm\\\\Downloads\\\\drive-download-20240117T163454Z-001\\\\Copy of search.png\")\n",
    "search_icon_label = Label(image=search_image)\n",
    "search_icon_label.place(x=20, y=20)\n",
    "text_entry = tk.Entry(root, justify=\"center\", width=17, font=(\"poppins\", 25, \"bold\"), bg=\"#FFFFFF\", border=0, fg=\"black\")\n",
    "text_entry.place(x=60, y=40)\n",
    "text_entry.focus()\n",
    "search_icon_image = PhotoImage(file=\"C:\\\\Users\\\\sushm\\\\Downloads\\\\drive-download-20240117T163454Z-001\\\\Copy of search_icon.png\")\n",
    "search_button = Button(image=search_icon_image, borderwidth=0, cursor=\"hand2\", bg=\"#FFFFFF\", command=fetchWeather)\n",
    "search_button.place(x=390, y=34)\n",
    "\n",
    "logo_image = PhotoImage(file=\"C:\\\\Users\\\\sushm\\\\Downloads\\\\drive-download-20240117T163454Z-001\\\\Copy of logo.png\")\n",
    "app_logo = Label(image=logo_image)\n",
    "app_logo.place(x=150, y=100)\n",
    "\n",
    "frame_image = PhotoImage(file=\"C:\\\\Users\\\\sushm\\\\Downloads\\\\drive-download-20240117T163454Z-001\\\\Copy of box.png\")\n",
    "frame_label = Label(image=frame_image)\n",
    "frame_label.pack(padx=5, pady=5, side=BOTTOM)\n",
    "\n",
    "weather_name_label = Label(root, font=(\"arial\", 15, \"bold\"))\n",
    "weather_name_label.place(x=30, y=100)\n",
    "clock_label = Label(root, font=(\"Helvetica\", 20))\n",
    "clock_label.place(x=30, y=130)\n",
    "\n",
    "label_wind = Label(root, text=\"WIND\", font=(\"Helvetica\", 15, 'bold'), fg=\"white\", bg=\"#1ab5ef\")\n",
    "label_wind.place(x=120, y=400)\n",
    "label_humidity = Label(root, text=\"HUMIDITY\", font=(\"Helvetica\", 15, 'bold'), fg=\"white\", bg=\"#1ab5ef\")\n",
    "label_humidity.place(x=250, y=400)\n",
    "label_description = Label(root, text=\"DESCRIPTION\", font=(\"Helvetica\", 15, 'bold'), fg=\"white\", bg=\"#1ab5ef\")\n",
    "label_description.place(x=430, y=400)\n",
    "label_pressure = Label(root, text=\"PRESSURE\", font=(\"Helvetica\", 15, 'bold'), fg=\"white\", bg=\"#1ab5ef\")\n",
    "label_pressure.place(x=650, y=400)\n",
    "temperature_label = Label(font=(\"arial\", 70, \"bold\"), fg=\"#ee666d\")\n",
    "temperature_label.place(x=400, y=150)\n",
    "condition_label = Label(font=(\"arial\", 15, \"bold\"))\n",
    "condition_label.place(x=400, y=250)\n",
    "wind_label = Label(text=\"...\", font=(\"arial\", 20, \"bold\"), bg=\"#1ab5ef\")\n",
    "wind_label.place(x=120, y=430)\n",
    "humidity_label = Label(text=\"...\", font=(\"arial\", 20, \"bold\"), bg=\"#1ab5ef\")\n",
    "humidity_label.place(x=280, y=430)\n",
    "description_label = Label(text=\"...\", font=(\"arial\", 20, \"bold\"), bg=\"#1ab5ef\")\n",
    "description_label.place(x=450, y=430)\n",
    "pressure_label = Label(text=\"...\", font=(\"arial\", 20, \"bold\"), bg=\"#1ab5ef\")\n",
    "pressure_label.place(x=670, y=430)\n",
    "root.mainloop()"
   ]
  },
  {
   "cell_type": "code",
   "execution_count": 16,
   "id": "e2213d0e",
   "metadata": {},
   "outputs": [],
   "source": []
  },
  {
   "cell_type": "code",
   "execution_count": null,
   "id": "f4e87cd1",
   "metadata": {},
   "outputs": [],
   "source": []
  },
  {
   "cell_type": "code",
   "execution_count": null,
   "id": "27d58336",
   "metadata": {},
   "outputs": [],
   "source": []
  },
  {
   "cell_type": "code",
   "execution_count": null,
   "id": "f7bac184",
   "metadata": {},
   "outputs": [],
   "source": []
  },
  {
   "cell_type": "code",
   "execution_count": null,
   "id": "ac421c65",
   "metadata": {},
   "outputs": [],
   "source": [
    "\n"
   ]
  },
  {
   "cell_type": "code",
   "execution_count": null,
   "id": "ceedc356",
   "metadata": {},
   "outputs": [],
   "source": [
    "\n"
   ]
  },
  {
   "cell_type": "code",
   "execution_count": null,
   "id": "81f2374e",
   "metadata": {},
   "outputs": [],
   "source": []
  },
  {
   "cell_type": "code",
   "execution_count": null,
   "id": "ce047e7c",
   "metadata": {},
   "outputs": [],
   "source": []
  },
  {
   "cell_type": "code",
   "execution_count": null,
   "id": "96897503",
   "metadata": {},
   "outputs": [],
   "source": []
  },
  {
   "cell_type": "code",
   "execution_count": null,
   "id": "bab96f5d",
   "metadata": {},
   "outputs": [],
   "source": []
  },
  {
   "cell_type": "code",
   "execution_count": null,
   "id": "c73e78ce",
   "metadata": {},
   "outputs": [],
   "source": []
  },
  {
   "cell_type": "code",
   "execution_count": null,
   "id": "30ae7368",
   "metadata": {},
   "outputs": [],
   "source": []
  },
  {
   "cell_type": "code",
   "execution_count": null,
   "id": "a3b6d49c",
   "metadata": {},
   "outputs": [],
   "source": []
  },
  {
   "cell_type": "code",
   "execution_count": 34,
   "id": "67dd221f",
   "metadata": {},
   "outputs": [],
   "source": []
  },
  {
   "cell_type": "code",
   "execution_count": null,
   "id": "e1b732c3",
   "metadata": {},
   "outputs": [],
   "source": []
  }
 ],
 "metadata": {
  "kernelspec": {
   "display_name": "Python 3 (ipykernel)",
   "language": "python",
   "name": "python3"
  },
  "language_info": {
   "codemirror_mode": {
    "name": "ipython",
    "version": 3
   },
   "file_extension": ".py",
   "mimetype": "text/x-python",
   "name": "python",
   "nbconvert_exporter": "python",
   "pygments_lexer": "ipython3",
   "version": "3.11.5"
  }
 },
 "nbformat": 4,
 "nbformat_minor": 5
}
